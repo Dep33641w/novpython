{
  "nbformat": 4,
  "nbformat_minor": 0,
  "metadata": {
    "colab": {
      "provenance": [],
      "authorship_tag": "ABX9TyM/mJ6yXS9I9dgo/MpeZnmq",
      "include_colab_link": true
    },
    "kernelspec": {
      "name": "python3",
      "display_name": "Python 3"
    },
    "language_info": {
      "name": "python"
    }
  },
  "cells": [
    {
      "cell_type": "markdown",
      "metadata": {
        "id": "view-in-github",
        "colab_type": "text"
      },
      "source": [
        "<a href=\"https://colab.research.google.com/github/Dep33641w/novpython/blob/main/Untitled3.ipynb\" target=\"_parent\"><img src=\"https://colab.research.google.com/assets/colab-badge.svg\" alt=\"Open In Colab\"/></a>"
      ]
    },
    {
      "cell_type": "code",
      "source": [
        "# Write to a file\n",
        "with open('example.txt', 'w') as file:\n",
        "    file.write(\"Hello, this is a file handling example in Python.\\n\")\n",
        "    file.write(\"We are writing some text into this file.\")\n",
        "\n",
        "# Read from the file\n",
        "with open('example.txt', 'r') as file:\n",
        "    content = file.read()\n",
        "    print(\"File Content:\\n\", content)\n",
        "\n",
        "# Append to the file\n",
        "with open('example.txt', 'a') as file:\n",
        "    file.write(\"\\nThis line was added later using file append mode.\")\n",
        "\n",
        " # Read again after appending\n",
        "with open('example.txt', 'r') as file:\n",
        "    updated_content = file.read()\n",
        "    print(\"\\nUpdated File Content:\\n\", updated_content)"
      ],
      "metadata": {
        "colab": {
          "base_uri": "https://localhost:8080/"
        },
        "id": "VmtI6xBDw34B",
        "outputId": "5a2c6c93-f7e6-479f-83ef-f4fc6040bafc"
      },
      "execution_count": 3,
      "outputs": [
        {
          "output_type": "stream",
          "name": "stdout",
          "text": [
            "File Content:\n",
            " Hello, this is a file handling example in Python.\n",
            "We are writing some text into this file.\n",
            "\n",
            "Updated File Content:\n",
            " Hello, this is a file handling example in Python.\n",
            "We are writing some text into this file.\n",
            "This line was added later using file append mode.\n"
          ]
        }
      ]
    },
    {
      "cell_type": "code",
      "source": [
        "import requests\n",
        "from bs4 import BeautifulSoup\n",
        "\n",
        "# URL of the site we want to scrape\n",
        "url = 'https://quotes.toscrape.com'\n",
        "\n",
        "# Set headers to make our request look like it's from a browser\n",
        "headers = {\n",
        "    'User-Agent': 'Mozilla/5.0 (Windows NT 10.0; Win64; x64) AppleWebKit/537.36 (KHTML, like Gecko) Chrome/91.0.4472.124 Safari/537.36'\n",
        "}\n",
        "\n",
        "# Send GET request to the website\n",
        "response = requests.get(url, headers=headers)\n",
        "\n",
        "# Check if the request was successful\n",
        "if response.status_code == 200:\n",
        "    print(\"Page successfully retrieved!\")\n",
        "\n",
        "    # Parse the HTML content of the page using BeautifulSoup\n",
        "    soup = BeautifulSoup(response.content, 'html.parser')\n",
        "\n",
        "    # Find all quotes (they are inside <span> tags with the class 'text')\n",
        "    quotes = soup.find_all('span', class_='text')\n",
        "\n",
        "    # Find all authors (they are inside <small> tags with the class 'author')\n",
        "    authors = soup.find_all('small', class_='author')\n",
        "\n",
        "    # Find all tags (they are inside <div> tags with the class 'tags')\n",
        "    tags = soup.find_all('div', class_='tags')\n",
        "\n",
        "    # Iterate through the quotes and print the quote, author, and tags\n",
        "    for i in range(len(quotes)):\n",
        "        print(f\"Quote: {quotes[i].get_text()}\")\n",
        "        print(f\"Author: {authors[i].get_text()}\")\n",
        "\n",
        "        # Get the list of tags for the current quote\n",
        "        tag_list = [tag.get_text() for tag in tags[i].find_all('a', class_='tag')]\n",
        "        print(f\"Tags: {', '.join(tag_list)}\\n\")\n",
        "else:\n",
        "    print(f\"Failed to retrieve the page. Status code: {response.status_code}\")\n"
      ],
      "metadata": {
        "colab": {
          "base_uri": "https://localhost:8080/"
        },
        "id": "WzLo1ilJzQrG",
        "outputId": "3241c0c4-8959-48d3-cb90-d83675ca646a"
      },
      "execution_count": 10,
      "outputs": [
        {
          "output_type": "stream",
          "name": "stdout",
          "text": [
            "Page successfully retrieved!\n",
            "Quote: “The world as we have created it is a process of our thinking. It cannot be changed without changing our thinking.”\n",
            "Author: Albert Einstein\n",
            "Tags: change, deep-thoughts, thinking, world\n",
            "\n",
            "Quote: “It is our choices, Harry, that show what we truly are, far more than our abilities.”\n",
            "Author: J.K. Rowling\n",
            "Tags: abilities, choices\n",
            "\n",
            "Quote: “There are only two ways to live your life. One is as though nothing is a miracle. The other is as though everything is a miracle.”\n",
            "Author: Albert Einstein\n",
            "Tags: inspirational, life, live, miracle, miracles\n",
            "\n",
            "Quote: “The person, be it gentleman or lady, who has not pleasure in a good novel, must be intolerably stupid.”\n",
            "Author: Jane Austen\n",
            "Tags: aliteracy, books, classic, humor\n",
            "\n",
            "Quote: “Imperfection is beauty, madness is genius and it's better to be absolutely ridiculous than absolutely boring.”\n",
            "Author: Marilyn Monroe\n",
            "Tags: be-yourself, inspirational\n",
            "\n",
            "Quote: “Try not to become a man of success. Rather become a man of value.”\n",
            "Author: Albert Einstein\n",
            "Tags: adulthood, success, value\n",
            "\n",
            "Quote: “It is better to be hated for what you are than to be loved for what you are not.”\n",
            "Author: André Gide\n",
            "Tags: life, love\n",
            "\n",
            "Quote: “I have not failed. I've just found 10,000 ways that won't work.”\n",
            "Author: Thomas A. Edison\n",
            "Tags: edison, failure, inspirational, paraphrased\n",
            "\n",
            "Quote: “A woman is like a tea bag; you never know how strong it is until it's in hot water.”\n",
            "Author: Eleanor Roosevelt\n",
            "Tags: misattributed-eleanor-roosevelt\n",
            "\n",
            "Quote: “A day without sunshine is like, you know, night.”\n",
            "Author: Steve Martin\n",
            "Tags: humor, obvious, simile\n",
            "\n"
          ]
        }
      ]
    }
  ]
}